{
 "cells": [
  {
   "cell_type": "code",
   "execution_count": 1,
   "metadata": {
    "ExecuteTime": {
     "end_time": "2021-12-30T21:48:16.415248Z",
     "start_time": "2021-12-30T21:48:16.257964Z"
    }
   },
   "outputs": [],
   "source": [
    "import glob\n",
    "import cv2\n",
    "from PIL import Image,ImageDraw\n",
    "import numpy as np\n",
    "import json,os\n",
    "from shapely.geometry import LineString\n",
    "from numpy.lib.stride_tricks import as_strided\n",
    "from pathlib import Path"
   ]
  },
  {
   "cell_type": "markdown",
   "metadata": {},
   "source": [
    "### TO DO:\n",
    "#### Data generation\n",
    "- [x] replace corner boxes by convex hulls coordinates - suggested scipy.spatial.ConvexHull and save it to dict along with image (see cards dictionary - variable further down )\n",
    "- [x] download background textures\n",
    "- [ ] investigate 'data/cards_jpeg/10c', 'data/cards_jpeg/Ks', 'data/cards_jpeg/10h'\n",
    "\n",
    "- [ ]  create augmentation pipeline: perspective transformations, change in lightning. Show few examples to verify correctness. (remember to augment bboxes along with images) - suggested imgaug\n",
    "- [ ]  figure out a way to automatically position cards on an image (e.g. one cards is nearly all covered by another). Choose randomly background texture but remember it should be more or less uniquely distributed \n",
    "- [ ]  create data, with images consisting with N - number of distinct cards on an image\n",
    "#### Model\n",
    "to be continued"
   ]
  },
  {
   "cell_type": "code",
   "execution_count": 2,
   "metadata": {
    "ExecuteTime": {
     "end_time": "2021-12-30T21:48:16.419348Z",
     "start_time": "2021-12-30T21:48:16.416706Z"
    }
   },
   "outputs": [],
   "source": [
    "files = glob.glob(\"data/cards_jpeg/*.jpeg\")\n",
    "files = [f.rstrip(\".jpeg\") for f in files]"
   ]
  },
  {
   "cell_type": "code",
   "execution_count": 3,
   "metadata": {
    "ExecuteTime": {
     "end_time": "2021-12-30T21:48:16.423456Z",
     "start_time": "2021-12-30T21:48:16.420657Z"
    }
   },
   "outputs": [],
   "source": [
    "def imshow(a):\n",
    "    a = a.clip(0, 255).astype('uint8')\n",
    "    if a.ndim == 3:\n",
    "        if a.shape[2] == 4:\n",
    "            a = cv2.cvtColor(a, cv2.COLOR_BGRA2RGBA)\n",
    "        else:\n",
    "            a = cv2.cvtColor(a, cv2.COLOR_BGR2RGB)\n",
    "    display(Image.fromarray(a))"
   ]
  },
  {
   "cell_type": "code",
   "execution_count": 4,
   "metadata": {
    "ExecuteTime": {
     "end_time": "2021-12-30T21:48:16.428980Z",
     "start_time": "2021-12-30T21:48:16.424543Z"
    }
   },
   "outputs": [],
   "source": [
    "class Card:\n",
    "    def __init__(self,name):\n",
    "        self.name = name\n",
    "        self.image = None\n",
    "        self.card_polygon = None\n",
    "        self.label_polygons = []\n",
    "        \n",
    "    def set_image(self,image):\n",
    "        self.image = image\n",
    "        \n",
    "    def set_card_polygon(self,card_polygon):\n",
    "        self.card_polygon = card_polygon\n",
    "        \n",
    "    def set_label_polygons(self,label_polygons):\n",
    "        self.label_polygons = label_polygons\n",
    "    \n",
    "    def add_label_polygon(self,label_polygon):\n",
    "        self.label_polygons.append(label_polygon)\n",
    "    \n",
    "        \n",
    "    def save(self,dir_name='./interim_data'):\n",
    "        Path(dir_name).mkdir(parents=True, exist_ok=True)\n",
    "        template = {\"filename\":self.name,\n",
    "                   \"card_polygon\":self.card_polygon,\n",
    "                   \"label_polygons\": self.label_polygons}\n",
    "        \n",
    "        json_name = os.path.join(dir_name,self.name+'.json')\n",
    "        with open(json_name,'w') as fp:\n",
    "            json.dump(template,fp)\n",
    "        print(f\"{json_name} saved correctly!\")\n",
    "        \n",
    "        image_name = os.path.join(dir_name,self.name+'.png')\n",
    "        cv2.imwrite(image_name,self.image)\n",
    "        print(f\"{image_name} saved correctly!\")\n",
    "    \n",
    "    \n",
    "    "
   ]
  },
  {
   "cell_type": "code",
   "execution_count": 5,
   "metadata": {
    "ExecuteTime": {
     "end_time": "2021-12-30T21:48:16.433321Z",
     "start_time": "2021-12-30T21:48:16.430403Z"
    }
   },
   "outputs": [],
   "source": [
    "def rolling_window(a, window_size):\n",
    "    shape = (a.shape[0] - window_size + 1, window_size) + a.shape[1:]\n",
    "    strides = (a.strides[0],) + a.strides\n",
    "    return as_strided(a, shape=shape, strides=strides)"
   ]
  },
  {
   "cell_type": "code",
   "execution_count": 6,
   "metadata": {
    "ExecuteTime": {
     "end_time": "2021-12-30T21:48:16.438124Z",
     "start_time": "2021-12-30T21:48:16.434810Z"
    }
   },
   "outputs": [],
   "source": [
    "def get_longest_lines(card):\n",
    "    \"\"\"return lines [x1,y1,x2,y2]\"\"\"\n",
    "    pairs_of_points = rolling_window(card.card_polygon,2)\n",
    "    points1 ,points2= pairs_of_points[:,0,:],pairs_of_points[:,1,:]\n",
    "    distances = np.apply_along_axis(np.linalg.norm, 1, points1-points2)\n",
    "    return pairs_of_points[distances.argsort()][-4:].reshape(-1,4)"
   ]
  },
  {
   "cell_type": "code",
   "execution_count": 7,
   "metadata": {
    "ExecuteTime": {
     "end_time": "2021-12-30T21:48:16.444079Z",
     "start_time": "2021-12-30T21:48:16.440651Z"
    }
   },
   "outputs": [],
   "source": [
    "def extend_lines(lines,height,width):\n",
    "    \"\"\"extends line segments to border of image\"\"\"\n",
    "    extended_lines = []\n",
    "    for line in lines:\n",
    "        x1,y1,x2,y2 = line\n",
    "#         print(line)\n",
    "        numerator = (y2 - y1) \n",
    "        denumerator = (x2 - x1)\n",
    "        if denumerator == 0:\n",
    "            a = 10e-10\n",
    "        else:\n",
    "            \n",
    "        \n",
    "            a = numerator / denumerator\n",
    "        b = y1 - a * x1\n",
    "        if a > 100:\n",
    "#             print([(-b)/a,0,(height-b)/a,height])\n",
    "            extended_lines.append([(-b)/a,0,(height-b)/a,height])\n",
    "        else:\n",
    "            extended_lines.append([0,b,width,a*width +b])\n",
    "    extended_lines = np.array(extended_lines).astype(np.int32)\n",
    "#     print(extended_lines)\n",
    "    return extended_lines\n",
    "            "
   ]
  },
  {
   "cell_type": "code",
   "execution_count": 8,
   "metadata": {
    "ExecuteTime": {
     "end_time": "2021-12-30T21:48:16.449602Z",
     "start_time": "2021-12-30T21:48:16.445919Z"
    }
   },
   "outputs": [],
   "source": [
    "def get_intersection_points(lines):\n",
    "    lines = np.vstack((lines,np.expand_dims(lines[0],axis=0)))\n",
    "    pairs_of_lines = rolling_window(lines, 2)\n",
    "    intersections = []\n",
    "    for pair in pairs_of_lines:\n",
    "        A,B,C,D = pair.reshape(4,2)\n",
    "        line1 = LineString([A, B])\n",
    "        line2 = LineString([C, D])\n",
    "\n",
    "        int_pt = line1.intersection(line2)\n",
    "#         print(int_pt)\n",
    "        point_of_intersection = int_pt.x, int_pt.y\n",
    "        intersections.append(point_of_intersection)\n",
    "    return np.array(intersections).astype(np.float32)"
   ]
  },
  {
   "cell_type": "code",
   "execution_count": 9,
   "metadata": {
    "ExecuteTime": {
     "end_time": "2021-12-30T21:48:16.453804Z",
     "start_time": "2021-12-30T21:48:16.450905Z"
    }
   },
   "outputs": [],
   "source": [
    "def get_bbox(card):\n",
    "    lines = get_longest_lines(card)\n",
    "    height,width = card.image.shape[:2]\n",
    "    extended_lines = extend_lines(lines,height,width)[[0,2,1,3]]\n",
    "#     print(extended_lines)\n",
    "    intersection_points = get_intersection_points(extended_lines)\n",
    "    return extended_lines,intersection_points"
   ]
  },
  {
   "cell_type": "code",
   "execution_count": 10,
   "metadata": {
    "ExecuteTime": {
     "end_time": "2021-12-30T21:48:16.457869Z",
     "start_time": "2021-12-30T21:48:16.455123Z"
    }
   },
   "outputs": [],
   "source": [
    "def get_minAreaRect(intersection_points):\n",
    "    x_s,y_s = intersection_points[:,0],intersection_points[:,1]\n",
    "    minx,maxx = x_s[x_s.argsort()][[0,3]]\n",
    "    miny,maxy = y_s[y_s.argsort()][[0,3]]\n",
    "    return np.array([[minx,miny],[maxx,miny],[maxx,maxy],[minx,maxy]])"
   ]
  },
  {
   "cell_type": "code",
   "execution_count": 11,
   "metadata": {
    "ExecuteTime": {
     "end_time": "2021-12-30T21:48:16.463712Z",
     "start_time": "2021-12-30T21:48:16.459032Z"
    }
   },
   "outputs": [],
   "source": [
    "def four_point_transform(image, pts):\n",
    "    # obtain a consistent order of the points and unpack them\n",
    "    # individually\n",
    "    (tl, tr, br, bl) = pts\n",
    "    # compute the width of the new image, which will be the\n",
    "    # maximum distance between bottom-right and bottom-left\n",
    "    # x-coordinates or the top-right and top-left x-coordinates\n",
    "    widthA = np.sqrt(((br[0] - bl[0]) ** 2) + ((br[1] - bl[1]) ** 2))\n",
    "    widthB = np.sqrt(((tr[0] - tl[0]) ** 2) + ((tr[1] - tl[1]) ** 2))\n",
    "    maxWidth = max(int(widthA), int(widthB))\n",
    "    # compute the height of the new image, which will be the\n",
    "    # maximum distance between the top-right and bottom-right\n",
    "    # y-coordinates or the top-left and bottom-left y-coordinates\n",
    "    heightA = np.sqrt(((tr[0] - br[0]) ** 2) + ((tr[1] - br[1]) ** 2))\n",
    "    heightB = np.sqrt(((tl[0] - bl[0]) ** 2) + ((tl[1] - bl[1]) ** 2))\n",
    "    maxHeight = max(int(heightA), int(heightB))\n",
    "    # now that we have the dimensions of the new image, construct\n",
    "    # the set of destination points to obtain a \"birds eye view\",\n",
    "    # (i.e. top-down view) of the image, again specifying points\n",
    "    # in the top-left, top-right, bottom-right, and bottom-left\n",
    "    # order\n",
    "    \n",
    "    dst = np.array([\n",
    "        [0, 0],\n",
    "        [maxWidth - 1, 0],\n",
    "        [maxWidth - 1, maxHeight - 1],\n",
    "        [0, maxHeight - 1]], dtype = \"float32\")\n",
    "    # compute the perspective transform matrix and then apply it\n",
    "    M = cv2.getPerspectiveTransform(pts, dst)\n",
    "    warped = cv2.warpPerspective(image, M, (maxWidth, maxHeight))\n",
    "    # return the warped image\n",
    "    return warped,M"
   ]
  },
  {
   "cell_type": "code",
   "execution_count": 12,
   "metadata": {
    "ExecuteTime": {
     "end_time": "2021-12-30T21:48:16.467859Z",
     "start_time": "2021-12-30T21:48:16.464844Z"
    }
   },
   "outputs": [],
   "source": [
    "def order_points(pts):\n",
    "    rect = np.zeros((4, 2), dtype = \"float32\")\n",
    "    s = pts.sum(axis = 1)\n",
    "    rect[0] = pts[np.argmin(s)]\n",
    "    rect[2] = pts[np.argmax(s)]\n",
    "    diff = np.diff(pts, axis = 1)\n",
    "    rect[1] = pts[np.argmin(diff)]\n",
    "    rect[3] = pts[np.argmax(diff)]\n",
    "    return rect"
   ]
  },
  {
   "cell_type": "code",
   "execution_count": 13,
   "metadata": {
    "ExecuteTime": {
     "end_time": "2021-12-30T21:48:16.474269Z",
     "start_time": "2021-12-30T21:48:16.470496Z"
    }
   },
   "outputs": [],
   "source": [
    "def apply_mask(image):\n",
    "    im = image.copy()\n",
    "    im = cv2.cvtColor(im,cv2.COLOR_BGR2BGRA).astype(np.uint8)\n",
    "    img = Image.new('L', im.shape[:2][::-1], 0)\n",
    "    ImageDraw.Draw(img).polygon([tuple(x) for x in card.card_polygon], outline=255, fill=255)\n",
    "    resized_mask = cv2.resize(np.array(img),np.array(im.shape[:2][::-1])-26).astype(np.uint8)\n",
    "    resized_mask = np.pad(resized_mask,13,'constant',constant_values=0)\n",
    "    im[:,:,3] = np.array(resized_mask)\n",
    "    return im"
   ]
  },
  {
   "cell_type": "code",
   "execution_count": 14,
   "metadata": {
    "ExecuteTime": {
     "end_time": "2021-12-30T21:48:16.478430Z",
     "start_time": "2021-12-30T21:48:16.475546Z"
    }
   },
   "outputs": [],
   "source": [
    "def rotate_polygon(polygon,M):\n",
    "    pts = np.array(polygon)\n",
    "    pts = np.hstack((pts,np.ones((pts.shape[0],1))))\n",
    "    pts = np.float32(np.dot(pts,M.T))[:,:2]\n",
    "    return numpy_to_list(pts)"
   ]
  },
  {
   "cell_type": "code",
   "execution_count": 15,
   "metadata": {
    "ExecuteTime": {
     "end_time": "2021-12-30T21:48:16.483417Z",
     "start_time": "2021-12-30T21:48:16.480335Z"
    }
   },
   "outputs": [],
   "source": [
    "def numpy_to_list(array):\n",
    "    lst2 = []\n",
    "    for i in array:\n",
    "        lst = []\n",
    "        for k in i:\n",
    "            lst.append(float(k))\n",
    "        lst2.append(lst)\n",
    "    return lst2"
   ]
  },
  {
   "cell_type": "markdown",
   "metadata": {},
   "source": [
    "'data/cards_jpeg/10c', 'data/cards_jpeg/Ks', 'data/cards_jpeg/10h' these do not work. Investigate!"
   ]
  },
  {
   "cell_type": "code",
   "execution_count": 20,
   "metadata": {
    "ExecuteTime": {
     "end_time": "2021-12-30T21:52:19.476334Z",
     "start_time": "2021-12-30T21:51:39.750126Z"
    },
    "scrolled": true
   },
   "outputs": [
    {
     "name": "stdout",
     "output_type": "stream",
     "text": [
      "./interim_data/Ah.json saved correctly!\n",
      "./interim_data/Ah.png saved correctly!\n",
      "./interim_data/4h.json saved correctly!\n",
      "./interim_data/4h.png saved correctly!\n",
      "./interim_data/5h.json saved correctly!\n",
      "./interim_data/5h.png saved correctly!\n",
      "./interim_data/8s.json saved correctly!\n",
      "./interim_data/8s.png saved correctly!\n",
      "./interim_data/Jd.json saved correctly!\n",
      "./interim_data/Jd.png saved correctly!\n",
      "./interim_data/8h.json saved correctly!\n",
      "./interim_data/8h.png saved correctly!\n",
      "./interim_data/7s.json saved correctly!\n",
      "./interim_data/7s.png saved correctly!\n",
      "./interim_data/9c.json saved correctly!\n",
      "./interim_data/9c.png saved correctly!\n",
      "./interim_data/2d.json saved correctly!\n",
      "./interim_data/2d.png saved correctly!\n",
      "./interim_data/6s.json saved correctly!\n",
      "./interim_data/6s.png saved correctly!\n",
      "./interim_data/3s.json saved correctly!\n",
      "./interim_data/3s.png saved correctly!\n",
      "./interim_data/Jc.json saved correctly!\n",
      "./interim_data/Jc.png saved correctly!\n",
      "./interim_data/6h.json saved correctly!\n",
      "./interim_data/6h.png saved correctly!\n",
      "./interim_data/7d.json saved correctly!\n",
      "./interim_data/7d.png saved correctly!\n",
      "./interim_data/3d.json saved correctly!\n",
      "./interim_data/3d.png saved correctly!\n",
      "./interim_data/10d.json saved correctly!\n",
      "./interim_data/10d.png saved correctly!\n",
      "./interim_data/Qd.json saved correctly!\n",
      "./interim_data/Qd.png saved correctly!\n",
      "./interim_data/4s.json saved correctly!\n",
      "./interim_data/4s.png saved correctly!\n",
      "./interim_data/8c.json saved correctly!\n",
      "./interim_data/8c.png saved correctly!\n",
      "./interim_data/3c.json saved correctly!\n",
      "./interim_data/3c.png saved correctly!\n",
      "./interim_data/8d.json saved correctly!\n",
      "./interim_data/8d.png saved correctly!\n",
      "./interim_data/7h.json saved correctly!\n",
      "./interim_data/7h.png saved correctly!\n",
      "./interim_data/3h.json saved correctly!\n",
      "./interim_data/3h.png saved correctly!\n",
      "./interim_data/10s.json saved correctly!\n",
      "./interim_data/10s.png saved correctly!\n",
      "./interim_data/Kc.json saved correctly!\n",
      "./interim_data/Kc.png saved correctly!\n",
      "./interim_data/5c.json saved correctly!\n",
      "./interim_data/5c.png saved correctly!\n",
      "./interim_data/4c.json saved correctly!\n",
      "./interim_data/4c.png saved correctly!\n",
      "./interim_data/Js.json saved correctly!\n",
      "./interim_data/Js.png saved correctly!\n",
      "./interim_data/6d.json saved correctly!\n",
      "./interim_data/6d.png saved correctly!\n",
      "./interim_data/2s.json saved correctly!\n",
      "./interim_data/2s.png saved correctly!\n",
      "./interim_data/9d.json saved correctly!\n",
      "./interim_data/9d.png saved correctly!\n",
      "./interim_data/7c.json saved correctly!\n",
      "./interim_data/7c.png saved correctly!\n",
      "./interim_data/9s.json saved correctly!\n",
      "./interim_data/9s.png saved correctly!\n",
      "./interim_data/Qh.json saved correctly!\n",
      "./interim_data/Qh.png saved correctly!\n",
      "./interim_data/Kd.json saved correctly!\n",
      "./interim_data/Kd.png saved correctly!\n",
      "./interim_data/5s.json saved correctly!\n",
      "./interim_data/5s.png saved correctly!\n",
      "./interim_data/2c.json saved correctly!\n",
      "./interim_data/2c.png saved correctly!\n",
      "./interim_data/Ad.json saved correctly!\n",
      "./interim_data/Ad.png saved correctly!\n",
      "./interim_data/Qs.json saved correctly!\n",
      "./interim_data/Qs.png saved correctly!\n",
      "./interim_data/6c.json saved correctly!\n",
      "./interim_data/6c.png saved correctly!\n",
      "./interim_data/Qc.json saved correctly!\n",
      "./interim_data/Qc.png saved correctly!\n",
      "./interim_data/Jh.json saved correctly!\n",
      "./interim_data/Jh.png saved correctly!\n",
      "./interim_data/4d.json saved correctly!\n",
      "./interim_data/4d.png saved correctly!\n",
      "./interim_data/2h.json saved correctly!\n",
      "./interim_data/2h.png saved correctly!\n",
      "./interim_data/As.json saved correctly!\n",
      "./interim_data/As.png saved correctly!\n",
      "./interim_data/5d.json saved correctly!\n",
      "./interim_data/5d.png saved correctly!\n",
      "./interim_data/Ac.json saved correctly!\n",
      "./interim_data/Ac.png saved correctly!\n",
      "./interim_data/Kh.json saved correctly!\n",
      "./interim_data/Kh.png saved correctly!\n",
      "./interim_data/9h.json saved correctly!\n",
      "./interim_data/9h.png saved correctly!\n"
     ]
    }
   ],
   "source": [
    "problems = []\n",
    "for file in files:\n",
    "    try:\n",
    "        card = Card(file.split(\"/\")[-1])\n",
    "        annotations = json.load(open(file+\".json\",'r'))['shapes']\n",
    "        for shape in annotations:\n",
    "            if shape['label'] == 'card':\n",
    "                card.set_card_polygon(np.array(shape['points']).astype(np.int32))\n",
    "            else:\n",
    "                card.add_label_polygon(shape['points'])\n",
    "        image = cv2.imread(file+\".jpeg\")\n",
    "        card.set_image(image)\n",
    "        img = apply_mask(card.image.copy())\n",
    "        extended_lines,intersection_points = get_bbox(card)\n",
    "        min_area_rect = get_minAreaRect(intersection_points)\n",
    "        img,M = four_point_transform(img,order_points(intersection_points))\n",
    "        card.set_card_polygon(rotate_polygon(card.card_polygon,M))\n",
    "        card.set_label_polygons([rotate_polygon(polygon,M) for polygon in card.label_polygons])\n",
    "        card.set_image(img)\n",
    "        card.save()\n",
    "    except:\n",
    "        problems.append(file)\n",
    "#     break"
   ]
  },
  {
   "cell_type": "code",
   "execution_count": 21,
   "metadata": {
    "ExecuteTime": {
     "end_time": "2021-12-30T21:53:24.645959Z",
     "start_time": "2021-12-30T21:53:24.635455Z"
    }
   },
   "outputs": [
    {
     "data": {
      "text/plain": [
       "['data/cards_jpeg/10c', 'data/cards_jpeg/Ks', 'data/cards_jpeg/10h']"
      ]
     },
     "execution_count": 21,
     "metadata": {},
     "output_type": "execute_result"
    }
   ],
   "source": [
    "problems"
   ]
  }
 ],
 "metadata": {
  "kernelspec": {
   "display_name": "Python 3",
   "language": "python",
   "name": "python3"
  },
  "language_info": {
   "codemirror_mode": {
    "name": "ipython",
    "version": 3
   },
   "file_extension": ".py",
   "mimetype": "text/x-python",
   "name": "python",
   "nbconvert_exporter": "python",
   "pygments_lexer": "ipython3",
   "version": "3.8.10"
  },
  "toc": {
   "base_numbering": 1,
   "nav_menu": {},
   "number_sections": true,
   "sideBar": true,
   "skip_h1_title": false,
   "title_cell": "Table of Contents",
   "title_sidebar": "Contents",
   "toc_cell": false,
   "toc_position": {},
   "toc_section_display": true,
   "toc_window_display": false
  }
 },
 "nbformat": 4,
 "nbformat_minor": 4
}